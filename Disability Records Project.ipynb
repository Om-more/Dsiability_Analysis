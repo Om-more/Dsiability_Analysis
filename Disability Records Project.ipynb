{
 "cells": [
  {
   "cell_type": "code",
   "execution_count": 0,
   "metadata": {
    "application/vnd.databricks.v1+cell": {
     "cellMetadata": {
      "byteLimit": 2048000,
      "rowLimit": 10000
     },
     "inputWidgets": {},
     "nuid": "dc805fe9-afa6-4fb8-a7a2-6445bc510ae9",
     "showTitle": false,
     "tableResultSettingsMap": {},
     "title": ""
    }
   },
   "outputs": [],
   "source": [
    "from pyspark.sql import SparkSession"
   ]
  },
  {
   "cell_type": "code",
   "execution_count": 0,
   "metadata": {
    "application/vnd.databricks.v1+cell": {
     "cellMetadata": {
      "byteLimit": 2048000,
      "rowLimit": 10000
     },
     "inputWidgets": {},
     "nuid": "0e7fa8a1-f511-493f-a43e-a4428b5a721b",
     "showTitle": false,
     "tableResultSettingsMap": {},
     "title": ""
    }
   },
   "outputs": [],
   "source": [
    "spark = SparkSession.builder.appName(\"DisabiltySet\").getOrCreate()"
   ]
  },
  {
   "cell_type": "code",
   "execution_count": 0,
   "metadata": {
    "application/vnd.databricks.v1+cell": {
     "cellMetadata": {
      "byteLimit": 2048000,
      "rowLimit": 10000
     },
     "inputWidgets": {},
     "nuid": "d82a52ef-b809-4c0f-b172-9c506529c681",
     "showTitle": false,
     "tableResultSettingsMap": {},
     "title": ""
    }
   },
   "outputs": [],
   "source": [
    "main_df = spark.table(\"workspace.default.disability_and_health_data_system_dhds_20250704\")\n",
    "main_df.display()"
   ]
  },
  {
   "cell_type": "code",
   "execution_count": 0,
   "metadata": {
    "application/vnd.databricks.v1+cell": {
     "cellMetadata": {
      "byteLimit": 2048000,
      "rowLimit": 10000
     },
     "inputWidgets": {},
     "nuid": "98848aae-3581-46cd-b3bb-d1b5a4864d60",
     "showTitle": false,
     "tableResultSettingsMap": {},
     "title": ""
    }
   },
   "outputs": [],
   "source": [
    "main_df.printSchema()"
   ]
  },
  {
   "cell_type": "markdown",
   "metadata": {
    "application/vnd.databricks.v1+cell": {
     "cellMetadata": {
      "byteLimit": 2048000,
      "rowLimit": 10000
     },
     "inputWidgets": {},
     "nuid": "b08b5928-6a77-406d-b6da-b44f02ed110d",
     "showTitle": false,
     "tableResultSettingsMap": {},
     "title": ""
    }
   },
   "source": [
    "## Data Cleaning"
   ]
  },
  {
   "cell_type": "code",
   "execution_count": 0,
   "metadata": {
    "application/vnd.databricks.v1+cell": {
     "cellMetadata": {
      "byteLimit": 2048000,
      "rowLimit": 10000
     },
     "inputWidgets": {},
     "nuid": "c9eabf2b-3e88-4315-8a5b-8dcd3635875f",
     "showTitle": false,
     "tableResultSettingsMap": {},
     "title": ""
    }
   },
   "outputs": [],
   "source": [
    "main_df = main_df.fillna({\"Data_Value_Footnote_Symbol\": \"-\"})\n",
    "main_df.display()"
   ]
  },
  {
   "cell_type": "code",
   "execution_count": 0,
   "metadata": {
    "application/vnd.databricks.v1+cell": {
     "cellMetadata": {
      "byteLimit": 2048000,
      "rowLimit": 10000
     },
     "inputWidgets": {},
     "nuid": "619f9eb0-b131-4d67-a52f-6257788c7f6e",
     "showTitle": false,
     "tableResultSettingsMap": {},
     "title": ""
    }
   },
   "outputs": [],
   "source": [
    "df_1=main_df.select(main_df[\"Rowid\"],main_df[\"Year\"],main_df[\"LocationAbbr\"],main_df[\"LocationDesc\"],main_df[\"Category\"],main_df[\"Indicator\"],main_df[\"Data_Value\"],main_df[\"Data_Value_Alt\"],main_df[\"Data_Value_Type\"],main_df[\"Data_Value_Footnote_Symbol\"],main_df[\"Data_Value_Footnote\"],main_df[\"Low_Confidence_Limit\"],main_df[\"High_Confidence_Limit\"],main_df[\"WeightedNumber\"],main_df[\"Number\"],main_df[\"StratificationCategory1\"],main_df[\"Stratification1\"],main_df[\"StratificationCategory2\"],main_df[\"Stratification2\"],main_df[\"Response\"],main_df[\"Geolocation\"])\n",
    "df_1.display()"
   ]
  },
  {
   "cell_type": "code",
   "execution_count": 0,
   "metadata": {
    "application/vnd.databricks.v1+cell": {
     "cellMetadata": {
      "byteLimit": 2048000,
      "rowLimit": 10000
     },
     "inputWidgets": {},
     "nuid": "241e54e0-d977-464f-b484-61d4972ebf97",
     "showTitle": false,
     "tableResultSettingsMap": {},
     "title": ""
    }
   },
   "outputs": [],
   "source": [
    "from pyspark.sql.functions import col\n",
    "distinct_strat1 = df_1.select(\"Stratification1\").distinct()\n",
    "count = distinct_strat1.count()\n",
    "print(f\"Total unique categories in Stratification1: {count}\")\n",
    "distinct_strat1.show(truncate=False)"
   ]
  },
  {
   "cell_type": "code",
   "execution_count": 0,
   "metadata": {
    "application/vnd.databricks.v1+cell": {
     "cellMetadata": {
      "byteLimit": 2048000,
      "rowLimit": 10000
     },
     "inputWidgets": {},
     "nuid": "0f4522d8-3969-49f4-a211-f663c7baeb87",
     "showTitle": false,
     "tableResultSettingsMap": {},
     "title": ""
    }
   },
   "outputs": [],
   "source": [
    "df_hearing = df_1.filter(main_df[\"Stratification1\"] == \"Hearing Disability\")\n",
    "df_hearing.display()"
   ]
  },
  {
   "cell_type": "code",
   "execution_count": 0,
   "metadata": {
    "application/vnd.databricks.v1+cell": {
     "cellMetadata": {
      "byteLimit": 2048000,
      "rowLimit": 10000
     },
     "inputWidgets": {},
     "nuid": "287a280c-1f10-45ee-b6d2-8ee1cb5ea1dc",
     "showTitle": false,
     "tableResultSettingsMap": {},
     "title": ""
    }
   },
   "outputs": [],
   "source": [
    "df_vision = df_1.filter(main_df[\"Stratification1\"] == \"Vision Disability\")\n",
    "df_vision.display()"
   ]
  },
  {
   "cell_type": "code",
   "execution_count": 0,
   "metadata": {
    "application/vnd.databricks.v1+cell": {
     "cellMetadata": {
      "byteLimit": 2048000,
      "rowLimit": 10000
     },
     "inputWidgets": {},
     "nuid": "9889ab3b-7ff2-4ce2-980a-8fccf90b233a",
     "showTitle": false,
     "tableResultSettingsMap": {},
     "title": ""
    }
   },
   "outputs": [],
   "source": [
    "df_cognitive = df_1.filter(main_df[\"Stratification1\"] == \"Cognitive Disability\")\n",
    "df_cognitive.display()"
   ]
  },
  {
   "cell_type": "code",
   "execution_count": 0,
   "metadata": {
    "application/vnd.databricks.v1+cell": {
     "cellMetadata": {
      "byteLimit": 2048000,
      "rowLimit": 10000
     },
     "inputWidgets": {},
     "nuid": "083c4938-1320-4068-add2-631d575d8517",
     "showTitle": false,
     "tableResultSettingsMap": {},
     "title": ""
    }
   },
   "outputs": [],
   "source": [
    "df_cognitive = df_1.filter(main_df[\"Stratification1\"] == \"Any Disability\")\n",
    "df_cognitive.display()"
   ]
  },
  {
   "cell_type": "code",
   "execution_count": 0,
   "metadata": {
    "application/vnd.databricks.v1+cell": {
     "cellMetadata": {
      "byteLimit": 2048000,
      "rowLimit": 10000
     },
     "inputWidgets": {},
     "nuid": "bb179209-297a-41ce-8433-899811c95973",
     "showTitle": false,
     "tableResultSettingsMap": {},
     "title": ""
    }
   },
   "outputs": [],
   "source": [
    "df_cognitive = df_1.filter(main_df[\"Stratification1\"] == \"No Disability\")\n",
    "df_cognitive.display()"
   ]
  },
  {
   "cell_type": "code",
   "execution_count": 0,
   "metadata": {
    "application/vnd.databricks.v1+cell": {
     "cellMetadata": {
      "byteLimit": 2048000,
      "rowLimit": 10000
     },
     "inputWidgets": {},
     "nuid": "1cc30b02-f2ca-4071-b4ce-4a9314331f71",
     "showTitle": false,
     "tableResultSettingsMap": {},
     "title": ""
    }
   },
   "outputs": [],
   "source": [
    "from pyspark.sql.functions import col, when\n",
    "\n",
    "disability_types = [\n",
    "    \"Hearing Disability\", \"Vision Disability\", \"Cognitive Disability\",\n",
    "    \"Self-care Disability\", \"Mobility Disability\",\n",
    "    \"Independent Living Disability\", \"Overall\"\n",
    "]\n",
    "\n",
    "df_1 = df_1.withColumn(\n",
    "    \"StratificationCategory2\",\n",
    "    when(\n",
    "        col(\"Stratification1\").isin(disability_types) & col(\"StratificationCategory2\").isNull(),\n",
    "        \"-\"\n",
    "    ).otherwise(col(\"StratificationCategory2\"))\n",
    ")\n",
    "\n",
    "df_1 = df_1.withColumn(\n",
    "    \"Stratification2\",\n",
    "    when(\n",
    "        col(\"Stratification1\").isin(disability_types) & col(\"Stratification2\").isNull(),\n",
    "        \"-\"\n",
    "    ).otherwise(col(\"Stratification2\"))\n",
    ")\n",
    "\n",
    "df_1.display()\n"
   ]
  },
  {
   "cell_type": "code",
   "execution_count": 0,
   "metadata": {
    "application/vnd.databricks.v1+cell": {
     "cellMetadata": {
      "byteLimit": 2048000,
      "rowLimit": 10000
     },
     "inputWidgets": {},
     "nuid": "fd692768-7a0d-4c9f-b618-d2e378964b37",
     "showTitle": false,
     "tableResultSettingsMap": {},
     "title": ""
    }
   },
   "outputs": [],
   "source": [
    "from pyspark.sql.functions import col\n",
    "distinct_strat1 = df_1.select(\"LocationDesc\").distinct()\n",
    "count = distinct_strat1.count()\n",
    "print(f\"Total unique categories in Stratification1: {count}\")\n",
    "distinct_strat1.display()"
   ]
  },
  {
   "cell_type": "code",
   "execution_count": 0,
   "metadata": {
    "application/vnd.databricks.v1+cell": {
     "cellMetadata": {
      "byteLimit": 2048000,
      "rowLimit": 10000
     },
     "inputWidgets": {},
     "nuid": "c4e579f4-087f-4d50-88b2-a5ba886510ea",
     "showTitle": false,
     "tableResultSettingsMap": {},
     "title": ""
    }
   },
   "outputs": [],
   "source": [
    "from pyspark.sql.functions import desc\n",
    "\n",
    "df_sub=df_1.select(\"Stratification1\",\"StratificationCategory2\",\"Stratification2\")\n",
    "df_sub.filter(df_sub[\"Stratification1\"]==\"No Disability\").groupBy(\"Stratification1\",\"StratificationCategory2\").count().orderBy(desc(\"count\")).display()"
   ]
  },
  {
   "cell_type": "code",
   "execution_count": 0,
   "metadata": {
    "application/vnd.databricks.v1+cell": {
     "cellMetadata": {
      "byteLimit": 2048000,
      "rowLimit": 10000
     },
     "inputWidgets": {},
     "nuid": "a71da969-fe66-4342-8362-7c9d4cbe8cf7",
     "showTitle": false,
     "tableResultSettingsMap": {},
     "title": ""
    }
   },
   "outputs": [],
   "source": [
    "df_1.filter(df_1[\"StratificationCategory2\"] == \"Race/Ethnicity\").groupBy(\"Stratification2\").count().orderBy(desc(\"count\")).display()"
   ]
  },
  {
   "cell_type": "code",
   "execution_count": 0,
   "metadata": {
    "application/vnd.databricks.v1+cell": {
     "cellMetadata": {
      "byteLimit": 2048000,
      "rowLimit": 10000
     },
     "inputWidgets": {},
     "nuid": "95b5e12b-ece1-4c36-89a2-1ebbd8d8b2a4",
     "showTitle": false,
     "tableResultSettingsMap": {},
     "title": ""
    }
   },
   "outputs": [],
   "source": [
    "df_1 = df_1.withColumn(\n",
    "    \"StratificationCategory2\",\n",
    "    when(\n",
    "        (col(\"Stratification1\") == \"No Disability\") & col(\"StratificationCategory2\").isNull(),\n",
    "        \"Race/Ethnicity\"\n",
    "    ).otherwise(col(\"StratificationCategory2\"))\n",
    ")\n",
    "\n",
    "df_1 = df_1.withColumn(\n",
    "    \"Stratification2\",\n",
    "    when(\n",
    "        (col(\"StratificationCategory2\") == \"Race/Ethnicity\") & col(\"Stratification2\").isNull(),\n",
    "        \"White,non-Hispanic\"\n",
    "    ).otherwise(col(\"Stratification2\"))\n",
    ")\n",
    "\n",
    "df_1.display()"
   ]
  },
  {
   "cell_type": "code",
   "execution_count": 0,
   "metadata": {
    "application/vnd.databricks.v1+cell": {
     "cellMetadata": {
      "byteLimit": 2048000,
      "rowLimit": 10000
     },
     "inputWidgets": {},
     "nuid": "dd1b0f83-186d-4cdf-a07e-b500ef76c27f",
     "showTitle": false,
     "tableResultSettingsMap": {},
     "title": ""
    }
   },
   "outputs": [],
   "source": [
    "df_sub_3=df_1.select(\"Stratification1\",\"StratificationCategory2\",\"Stratification2\")\n",
    "df_sub_3.filter(df_sub_3[\"Stratification1\"]==\"Any Disability\").groupBy(\"Stratification1\",\"StratificationCategory2\").count().orderBy(desc(\"count\")).display()"
   ]
  },
  {
   "cell_type": "code",
   "execution_count": 0,
   "metadata": {
    "application/vnd.databricks.v1+cell": {
     "cellMetadata": {
      "byteLimit": 2048000,
      "rowLimit": 10000
     },
     "inputWidgets": {},
     "nuid": "5523b995-9723-4a8d-9c47-9705401fa2ed",
     "showTitle": false,
     "tableResultSettingsMap": {},
     "title": ""
    }
   },
   "outputs": [],
   "source": [
    "df_sub_3.filter(df_sub_3[\"Stratification1\"]==\"Any Disability\").groupBy(\"Stratification1\",\"Stratification2\").count().orderBy(desc(\"count\")).display()"
   ]
  },
  {
   "cell_type": "code",
   "execution_count": 0,
   "metadata": {
    "application/vnd.databricks.v1+cell": {
     "cellMetadata": {
      "byteLimit": 2048000,
      "rowLimit": 10000
     },
     "inputWidgets": {},
     "nuid": "507fe413-5564-4574-88ed-af482f76378e",
     "showTitle": false,
     "tableResultSettingsMap": {},
     "title": ""
    }
   },
   "outputs": [],
   "source": [
    "df_1 = df_1.withColumn(\n",
    "    \"StratificationCategory2\",\n",
    "    when(\n",
    "        (col(\"Stratification1\") == \"Any Disability\") & col(\"StratificationCategory2\").isNull(),\n",
    "        \"Race/Ethnicity\"\n",
    "    ).otherwise(col(\"StratificationCategory2\"))\n",
    ")\n",
    "\n",
    "df_1 = df_1.withColumn(\n",
    "    \"Stratification2\",\n",
    "    when(\n",
    "        (col(\"StratificationCategory2\") == \"Race/Ethnicity\") & col(\"Stratification2\").isNull(),\n",
    "        \"White,non-Hispanic\"\n",
    "    ).otherwise(col(\"Stratification2\"))\n",
    ")\n",
    "\n",
    "df_1.display()"
   ]
  },
  {
   "cell_type": "code",
   "execution_count": 0,
   "metadata": {
    "application/vnd.databricks.v1+cell": {
     "cellMetadata": {
      "byteLimit": 2048000,
      "rowLimit": 10000
     },
     "inputWidgets": {},
     "nuid": "1bdc31c9-191e-4b3f-a328-0b3a2c6265a8",
     "showTitle": false,
     "tableResultSettingsMap": {},
     "title": ""
    }
   },
   "outputs": [],
   "source": [
    "df_1.select(\"Data_Value_Footnote_Symbol\").where(df_1[\"Data_Value_Footnote_Symbol\"] == \"*\").count()"
   ]
  },
  {
   "cell_type": "code",
   "execution_count": 0,
   "metadata": {
    "application/vnd.databricks.v1+cell": {
     "cellMetadata": {
      "byteLimit": 2048000,
      "rowLimit": 10000
     },
     "inputWidgets": {},
     "nuid": "36ed2c54-2e36-42d4-9139-5577b7386549",
     "showTitle": false,
     "tableResultSettingsMap": {},
     "title": ""
    }
   },
   "outputs": [],
   "source": [
    "df_1.select(\"Data_Value_Footnote_Symbol\").where(df_1[\"Data_Value_Footnote_Symbol\"] == \"-\").count()"
   ]
  },
  {
   "cell_type": "code",
   "execution_count": 0,
   "metadata": {
    "application/vnd.databricks.v1+cell": {
     "cellMetadata": {
      "byteLimit": 2048000,
      "rowLimit": 10000
     },
     "inputWidgets": {},
     "nuid": "7237c9c1-b7a3-4b1b-b830-ac276b6008ce",
     "showTitle": false,
     "tableResultSettingsMap": {},
     "title": ""
    }
   },
   "outputs": [],
   "source": [
    "from pyspark.sql.functions import col\n",
    "\n",
    "df_filtered = df_1.filter(col(\"Data_Value_Footnote_Symbol\") != \"*\")"
   ]
  },
  {
   "cell_type": "code",
   "execution_count": 0,
   "metadata": {
    "application/vnd.databricks.v1+cell": {
     "cellMetadata": {
      "byteLimit": 2048000,
      "rowLimit": 10000
     },
     "inputWidgets": {},
     "nuid": "18ab718c-2505-46cf-b216-b801a76d4788",
     "showTitle": false,
     "tableResultSettingsMap": {},
     "title": ""
    }
   },
   "outputs": [],
   "source": [
    "df_filtered.display()"
   ]
  },
  {
   "cell_type": "code",
   "execution_count": 0,
   "metadata": {
    "application/vnd.databricks.v1+cell": {
     "cellMetadata": {
      "byteLimit": 2048000,
      "rowLimit": 10000
     },
     "inputWidgets": {},
     "nuid": "05081d6e-627e-4507-8dd7-3fb3615e6ff4",
     "showTitle": false,
     "tableResultSettingsMap": {},
     "title": ""
    }
   },
   "outputs": [],
   "source": [
    "df_filtered=df_filtered.drop(\"Data_Value_Footnote_Symbol\",\"Data_Value_Footnote\")\n",
    "df_filtered.display()"
   ]
  },
  {
   "cell_type": "code",
   "execution_count": 0,
   "metadata": {
    "application/vnd.databricks.v1+cell": {
     "cellMetadata": {
      "byteLimit": 2048000,
      "rowLimit": 10000
     },
     "inputWidgets": {},
     "nuid": "9a2c14b8-721a-4084-83fb-db4edfb424a9",
     "showTitle": false,
     "tableResultSettingsMap": {},
     "title": ""
    }
   },
   "outputs": [],
   "source": [
    "df_filtered.select(\"Data_Value\").where(df_filtered[\"Geolocation\"].isNull()).count()"
   ]
  },
  {
   "cell_type": "code",
   "execution_count": 0,
   "metadata": {
    "application/vnd.databricks.v1+cell": {
     "cellMetadata": {
      "byteLimit": 2048000,
      "rowLimit": 10000
     },
     "inputWidgets": {},
     "nuid": "dca16b0f-e521-4840-8280-daf16fa96def",
     "showTitle": false,
     "tableResultSettingsMap": {},
     "title": ""
    }
   },
   "outputs": [],
   "source": [
    "df_filtered.where(df_filtered[\"Data_Value\"].isNull()).display()"
   ]
  },
  {
   "cell_type": "code",
   "execution_count": 0,
   "metadata": {
    "application/vnd.databricks.v1+cell": {
     "cellMetadata": {
      "byteLimit": 2048000,
      "rowLimit": 10000
     },
     "inputWidgets": {},
     "nuid": "fcc57eae-eb27-4b74-b947-8e82d6d4cfe4",
     "showTitle": false,
     "tableResultSettingsMap": {},
     "title": ""
    }
   },
   "outputs": [],
   "source": [
    "df_filtered_2=df_filtered.filter(col(\"Data_Value\").isNotNull() & col(\"Data_Value_Alt\").isNotNull() & col(\"Low_Confidence_Limit\").isNotNull() & col(\"High_Confidence_Limit\").isNotNull() & col(\"WeightedNumber\").isNotNull() & col(\"Number\").isNotNull())\n",
    "df_filtered_2.display()"
   ]
  },
  {
   "cell_type": "code",
   "execution_count": 0,
   "metadata": {
    "application/vnd.databricks.v1+cell": {
     "cellMetadata": {
      "byteLimit": 2048000,
      "rowLimit": 10000
     },
     "inputWidgets": {},
     "nuid": "ca23d212-26dc-4f5e-98db-f09f77d5b482",
     "showTitle": false,
     "tableResultSettingsMap": {},
     "title": ""
    }
   },
   "outputs": [],
   "source": [
    "df_filtered_2.select(\"Rowid\").count()"
   ]
  },
  {
   "cell_type": "code",
   "execution_count": 0,
   "metadata": {
    "application/vnd.databricks.v1+cell": {
     "cellMetadata": {
      "byteLimit": 2048000,
      "rowLimit": 10000
     },
     "inputWidgets": {},
     "nuid": "22b8bcad-332e-418b-87c6-a2c92199320c",
     "showTitle": false,
     "tableResultSettingsMap": {},
     "title": ""
    }
   },
   "outputs": [],
   "source": [
    "df_filtered_2.where(df_filtered_2[\"Geolocation\"].isNull()).count()"
   ]
  },
  {
   "cell_type": "code",
   "execution_count": 0,
   "metadata": {
    "application/vnd.databricks.v1+cell": {
     "cellMetadata": {
      "byteLimit": 2048000,
      "rowLimit": 10000
     },
     "inputWidgets": {},
     "nuid": "fabb84f9-ba72-4b70-923a-6b64f31d72a5",
     "showTitle": false,
     "tableResultSettingsMap": {},
     "title": ""
    }
   },
   "outputs": [],
   "source": [
    "df_filtered_2=df_filtered_2.drop(\"Geolocation\")\n",
    "df_filtered_2.display()"
   ]
  },
  {
   "cell_type": "code",
   "execution_count": 0,
   "metadata": {
    "application/vnd.databricks.v1+cell": {
     "cellMetadata": {
      "byteLimit": 2048000,
      "rowLimit": 10000
     },
     "inputWidgets": {},
     "nuid": "36bc2c94-0c40-4a43-a0b4-ba7870830a5b",
     "showTitle": false,
     "tableResultSettingsMap": {},
     "title": ""
    }
   },
   "outputs": [],
   "source": [
    "df_filtered_2.printSchema()"
   ]
  },
  {
   "cell_type": "code",
   "execution_count": 0,
   "metadata": {
    "application/vnd.databricks.v1+cell": {
     "cellMetadata": {
      "byteLimit": 2048000,
      "rowLimit": 10000
     },
     "inputWidgets": {},
     "nuid": "fbf94d01-145a-4c5d-828b-49ef3de3aad7",
     "showTitle": false,
     "tableResultSettingsMap": {},
     "title": ""
    }
   },
   "outputs": [],
   "source": [
    "df_filtered_2.where(df_filtered_2[\"Data_Value\"].isNull() & df_filtered_2[\"Data_Value_Alt\"].isNull() & df_filtered_2[\"Low_Confidence_Limit\"].isNull() & df_filtered_2[\"High_Confidence_Limit\"].isNull() & df_filtered_2[\"WeightedNumber\"].isNull() & df_filtered_2[\"Number\"].isNull() & df_filtered_2[\"StratificationCategory1\"].isNull() & df_filtered_2[\"Stratification1\"].isNull() & df_filtered_2[\"StratificationCategory2\"].isNull() & df_filtered_2[\"Stratification2\"].isNull() & df_filtered_2[\"Response\"].isNull()).display()"
   ]
  },
  {
   "cell_type": "markdown",
   "metadata": {
    "application/vnd.databricks.v1+cell": {
     "cellMetadata": {
      "byteLimit": 2048000,
      "rowLimit": 10000
     },
     "inputWidgets": {},
     "nuid": "c827dd36-0d7d-498f-8fd8-4401ff3cb944",
     "showTitle": false,
     "tableResultSettingsMap": {},
     "title": ""
    }
   },
   "source": [
    "## Max. Disabled Region and Age group."
   ]
  },
  {
   "cell_type": "code",
   "execution_count": 0,
   "metadata": {
    "application/vnd.databricks.v1+cell": {
     "cellMetadata": {
      "byteLimit": 2048000,
      "rowLimit": 10000
     },
     "inputWidgets": {},
     "nuid": "03ec286e-29dd-43d4-bf26-2b6f0248f2a8",
     "showTitle": false,
     "tableResultSettingsMap": {},
     "title": ""
    }
   },
   "outputs": [],
   "source": [
    "df_filtered_2.groupBy(\"Stratification1\").count().display()"
   ]
  },
  {
   "cell_type": "code",
   "execution_count": 0,
   "metadata": {
    "application/vnd.databricks.v1+cell": {
     "cellMetadata": {
      "byteLimit": 2048000,
      "rowLimit": 10000
     },
     "inputWidgets": {},
     "nuid": "af098d92-586b-436f-b194-bbc713dd5814",
     "showTitle": false,
     "tableResultSettingsMap": {},
     "title": ""
    }
   },
   "outputs": [],
   "source": [
    "# which region has maximum hearing disable \n",
    "\n",
    "df_hearing=df_filtered_2.select(\"LocationDesc\").where(df_filtered_2[\"Stratification1\"]==\"Hearing Disability\")\n",
    "df_hearing.groupBy(\"LocationDesc\").count().orderBy(desc(\"count\")).display()\n",
    "\n",
    "# which region has maximum vision disable \n",
    "\n",
    "df_vision=df_filtered_2.select(\"LocationDesc\").where(df_filtered_2[\"Stratification1\"]==\"Vision Disability\")\n",
    "df_vision.groupBy(\"LocationDesc\").count().orderBy(desc(\"count\")).display()\n",
    "\n",
    "# which region has maximum cognitive disable \n",
    "\n",
    "df_cognitive=df_filtered_2.select(\"LocationDesc\").where(df_filtered_2[\"Stratification1\"]==\"Cognitive Disability\")\n",
    "df_cognitive.groupBy(\"LocationDesc\").count().orderBy(desc(\"count\")).display()\n",
    "\n",
    "# which region has maximum mobility disable \n",
    "\n",
    "df_mobility=df_filtered_2.select(\"LocationDesc\").where(df_filtered_2[\"Stratification1\"]==\"Mobility Disability\")\n",
    "df_mobility.groupBy(\"LocationDesc\").count().orderBy(desc(\"count\")).display()\n",
    "\n",
    "# which region has maximum Independent Living Disability\n",
    "\n",
    "df_ILD=df_filtered_2.select(\"LocationDesc\").where(df_filtered_2[\"Stratification1\"]==\"Independent Living Disability\")\n",
    "df_ILD.groupBy(\"LocationDesc\").count().orderBy(desc(\"count\")).display()\n",
    "\n",
    "# which region has maximum self-care disability\n",
    "\n",
    "df_self=df_filtered_2.select(\"LocationDesc\").where(df_filtered_2[\"Stratification1\"]==\"Self-care Disability\")\n",
    "df_self.groupBy(\"LocationDesc\").count().orderBy(desc(\"count\")).display()\n",
    "\n",
    "# which region has maximum Any disability\n",
    "\n",
    "df_any=df_filtered_2.select(\"LocationDesc\").where(df_filtered_2[\"Stratification1\"]==\"Any Disability\")\n",
    "df_any.groupBy(\"LocationDesc\").count().orderBy(desc(\"count\")).display()\n",
    "\n",
    "# which region has maximum No disability\n",
    "\n",
    "df_no=df_filtered_2.select(\"LocationDesc\").where(df_filtered_2[\"Stratification1\"]==\"No Disability\")\n",
    "df_no.groupBy(\"LocationDesc\").count().orderBy(desc(\"count\")).display()\n",
    "\n",
    "# which region has maximum Overall\n",
    "df_overall=df_filtered_2.select(\"LocationDesc\").where(df_filtered_2[\"Stratification1\"]==\"Overall\")\n",
    "df_overall.groupBy(\"LocationDesc\").count().orderBy(desc(\"count\")).display()"
   ]
  },
  {
   "cell_type": "code",
   "execution_count": 0,
   "metadata": {
    "application/vnd.databricks.v1+cell": {
     "cellMetadata": {
      "byteLimit": 2048000,
      "rowLimit": 10000
     },
     "inputWidgets": {},
     "nuid": "9a569cc6-b1e9-4b34-8c25-627a272f995c",
     "showTitle": false,
     "tableResultSettingsMap": {},
     "title": ""
    }
   },
   "outputs": [],
   "source": [
    "from pyspark.sql.functions import col, desc\n",
    "import matplotlib.pyplot as plt\n",
    "import pandas as pd\n",
    "\n",
    "# List of all Stratification1 types you're analyzing\n",
    "disability_types = [\n",
    "    \"Hearing Disability\", \"Vision Disability\", \"Cognitive Disability\",\n",
    "    \"Mobility Disability\", \"Independent Living Disability\", \"Self-care Disability\",\n",
    "    \"Any Disability\", \"No Disability\", \"Overall\"\n",
    "]\n",
    "\n",
    "# Dictionary to store results\n",
    "data_dict = {}\n",
    "\n",
    "# Loop through each type and extract count per region\n",
    "for disability in disability_types:\n",
    "    df_temp = (\n",
    "        df_filtered_2\n",
    "        .filter(col(\"Stratification1\") == disability)\n",
    "        .groupBy(\"LocationDesc\")\n",
    "        .count()\n",
    "        .orderBy(desc(\"count\"))\n",
    "    )\n",
    "    # Convert Spark DataFrame to Pandas and to dict\n",
    "    pdf = df_temp.toPandas()\n",
    "    data_dict[disability] = dict(zip(pdf[\"LocationDesc\"], pdf[\"count\"]))\n",
    "\n",
    "# Plotting\n",
    "fig, axs = plt.subplots(9, 1, figsize=(30, 35))\n",
    "fig.suptitle(\"Disability Counts by Region for Each Stratification Type\", fontsize=18)\n",
    "axs = axs.flatten()\n",
    "\n",
    "for i, (disability, region_counts) in enumerate(data_dict.items()):\n",
    "    pd_series = pd.Series(region_counts).sort_values(ascending=False).head(50)  # Top 10 for clarity\n",
    "    axs[i].plot(pd_series.index, pd_series.values, color='skyblue')\n",
    "    axs[i].set_title(disability, fontsize=12)\n",
    "    axs[i].tick_params(axis='x', rotation=45)\n",
    "    axs[i].set_ylabel(\"Count\")\n",
    "\n",
    "plt.tight_layout(rect=[0, 0, 1, 0.96])\n",
    "plt.show()\n"
   ]
  },
  {
   "cell_type": "code",
   "execution_count": 0,
   "metadata": {
    "application/vnd.databricks.v1+cell": {
     "cellMetadata": {
      "byteLimit": 2048000,
      "rowLimit": 10000
     },
     "inputWidgets": {},
     "nuid": "255d3968-8274-4af2-9fd1-867e899c61f1",
     "showTitle": false,
     "tableResultSettingsMap": {},
     "title": ""
    }
   },
   "outputs": [],
   "source": [
    "# see for the sequence of indicator and response for specific disease\n",
    "\n",
    "df_new=df_filtered_2.select(\"Indicator\",\"Response\").where(df_filtered_2[\"Stratification1\"]==\"Hearing Disability\")\n",
    "df_new.groupBy(\"Indicator\").count().orderBy(desc(\"count\")).display()\n",
    "\n",
    "df_new=df_filtered_2.select(\"Indicator\",\"Response\").where(df_filtered_2[\"Stratification1\"]==\"Vision Disability\")\n",
    "df_new.groupBy(\"Indicator\").count().orderBy(desc(\"count\")).display()\n",
    "\n",
    "df_new=df_filtered_2.select(\"Indicator\",\"Response\").where(df_filtered_2[\"Stratification1\"]==\"Cognitive Disability\")\n",
    "df_new.groupBy(\"Indicator\").count().orderBy(desc(\"count\")).display()\n",
    "\n",
    "df_new=df_filtered_2.select(\"Indicator\",\"Response\").where(df_filtered_2[\"Stratification1\"]==\"Mobility Disability\")\n",
    "df_new.groupBy(\"Indicator\").count().orderBy(desc(\"count\")).display()\n",
    "\n",
    "df_new=df_filtered_2.select(\"Indicator\",\"Response\").where(df_filtered_2[\"Stratification1\"]==\"Independent Living Disability\")\n",
    "df_new.groupBy(\"Indicator\").count().orderBy(desc(\"count\")).display()\n",
    "\n",
    "df_new=df_filtered_2.select(\"Indicator\",\"Response\").where(df_filtered_2[\"Stratification1\"]==\"Self-care Disability\")\n",
    "df_new.groupBy(\"Indicator\").count().orderBy(desc(\"count\")).display()\n",
    "\n",
    "df_new=df_filtered_2.select(\"Indicator\",\"Response\").where(df_filtered_2[\"Stratification1\"]==\"Any Disability\")\n",
    "df_new.groupBy(\"Indicator\").count().orderBy(desc(\"count\")).display()\n",
    "\n",
    "df_new=df_filtered_2.select(\"Indicator\",\"Response\").where(df_filtered_2[\"Stratification1\"]==\"No Disability\")\n",
    "df_new.groupBy(\"Indicator\").count().orderBy(desc(\"count\")).display()\n",
    "\n",
    "df_new=df_filtered_2.select(\"Indicator\",\"Response\").where(df_filtered_2[\"Stratification1\"]==\"Overall\")\n",
    "df_new.groupBy(\"Indicator\").count().orderBy(desc(\"count\")).display()"
   ]
  },
  {
   "cell_type": "code",
   "execution_count": 0,
   "metadata": {
    "application/vnd.databricks.v1+cell": {
     "cellMetadata": {
      "byteLimit": 2048000,
      "rowLimit": 10000
     },
     "inputWidgets": {},
     "nuid": "11f276df-dbf1-42d0-8a61-d4a55d665863",
     "showTitle": false,
     "tableResultSettingsMap": {},
     "title": ""
    }
   },
   "outputs": [],
   "source": [
    "# trend per year observed\n",
    "from pyspark.sql.functions import avg\n",
    "\n",
    "df_yearly = df_filtered_2.groupBy(\"Year\", \"Stratification1\").agg(avg(\"Data_Value\").alias(\"Average_Disability_Rate\")).orderBy(\"Year\")\n",
    "df_yearly.orderBy(desc(\"Average_Disability_Rate\")).display()"
   ]
  },
  {
   "cell_type": "code",
   "execution_count": 0,
   "metadata": {
    "application/vnd.databricks.v1+cell": {
     "cellMetadata": {
      "byteLimit": 2048000,
      "rowLimit": 10000
     },
     "inputWidgets": {},
     "nuid": "1a921add-7bf5-45f1-af20-39855ade7dc7",
     "showTitle": false,
     "tableResultSettingsMap": {},
     "title": ""
    }
   },
   "outputs": [],
   "source": [
    "# Stratification comparison\n",
    "df_filtered_2.groupBy(\"Stratification2\", \"Stratification1\").agg(avg(\"Data_Value\").alias(\"Avg_Value\")).orderBy(desc(\"Avg_Value\")).display()"
   ]
  },
  {
   "cell_type": "code",
   "execution_count": 0,
   "metadata": {
    "application/vnd.databricks.v1+cell": {
     "cellMetadata": {
      "byteLimit": 2048000,
      "rowLimit": 10000
     },
     "inputWidgets": {},
     "nuid": "7c3cde0e-5adc-4c43-bba5-9bf758414431",
     "showTitle": false,
     "tableResultSettingsMap": {},
     "title": ""
    }
   },
   "outputs": [],
   "source": [
    "from pyspark.sql.functions import avg, desc, asc\n",
    "\n",
    "# Compute average disability value per state per disability type\n",
    "df_state_avg = df_filtered_2.groupBy(\"LocationDesc\", \"Stratification1\").agg(\n",
    "    avg(\"Data_Value\").alias(\"Average_Disability_Rate\")\n",
    ")\n",
    "\n",
    "df_state_avg.display()"
   ]
  },
  {
   "cell_type": "code",
   "execution_count": 0,
   "metadata": {
    "application/vnd.databricks.v1+cell": {
     "cellMetadata": {
      "byteLimit": 2048000,
      "rowLimit": 10000
     },
     "inputWidgets": {},
     "nuid": "83c12c52-9e2f-44f6-ab84-b604dcd03093",
     "showTitle": false,
     "tableResultSettingsMap": {},
     "title": ""
    }
   },
   "outputs": [],
   "source": [
    "import matplotlib.pyplot as plt\n",
    "\n",
    "df_pd = df_filtered_2.select(\"Stratification1\").toPandas()\n",
    "counts = df_pd[\"Stratification1\"].value_counts()\n",
    "\n",
    "plt.figure(figsize=(10, 6))\n",
    "counts.plot(kind=\"bar\", color=\"skyblue\")\n",
    "plt.title(\"Count of Each Disability Type (Stratification1)\")\n",
    "plt.xlabel(\"Disability Type\")\n",
    "plt.ylabel(\"Count\")\n",
    "plt.xticks(rotation=45, ha='right')\n",
    "plt.tight_layout()\n",
    "plt.grid(axis=\"y\", linestyle=\"--\", alpha=0.7)\n",
    "plt.show()\n"
   ]
  },
  {
   "cell_type": "code",
   "execution_count": 0,
   "metadata": {
    "application/vnd.databricks.v1+cell": {
     "cellMetadata": {
      "byteLimit": 2048000,
      "rowLimit": 10000
     },
     "inputWidgets": {},
     "nuid": "7d200a89-7921-4b85-a0c4-8bdfebef7c73",
     "showTitle": false,
     "tableResultSettingsMap": {},
     "title": ""
    }
   },
   "outputs": [],
   "source": [
    "from pyspark.sql.window import Window\n",
    "from pyspark.sql.functions import row_number\n",
    "\n",
    "# Define a window partitioned by disability type and ordered by descending average\n",
    "windowSpecTop = Window.partitionBy(\"Stratification1\").orderBy(desc(\"Average_Disability_Rate\"))\n",
    "\n",
    "# Add rank column\n",
    "df_top5 = df_state_avg.withColumn(\"rank\", row_number().over(windowSpecTop)).filter(\"rank <= 5\")\n",
    "\n",
    "df_top5.select(\"Stratification1\", \"LocationDesc\", \"Average_Disability_Rate\", \"rank\").display()\n"
   ]
  },
  {
   "cell_type": "code",
   "execution_count": 0,
   "metadata": {
    "application/vnd.databricks.v1+cell": {
     "cellMetadata": {
      "byteLimit": 2048000,
      "rowLimit": 10000
     },
     "inputWidgets": {},
     "nuid": "4497d87e-c275-413b-9a0e-8735ad6e703c",
     "showTitle": false,
     "tableResultSettingsMap": {},
     "title": ""
    }
   },
   "outputs": [],
   "source": [
    "# Define a window ordered ascending\n",
    "windowSpecBottom = Window.partitionBy(\"Stratification1\").orderBy(asc(\"Average_Disability_Rate\"))\n",
    "\n",
    "df_bottom5 = df_state_avg.withColumn(\"rank\", row_number().over(windowSpecBottom)).filter(\"rank <= 5\")\n",
    "\n",
    "df_bottom5.select(\"Stratification1\", \"LocationDesc\", \"Average_Disability_Rate\", \"rank\").display()\n"
   ]
  },
  {
   "cell_type": "code",
   "execution_count": 0,
   "metadata": {
    "application/vnd.databricks.v1+cell": {
     "cellMetadata": {
      "byteLimit": 2048000,
      "rowLimit": 10000
     },
     "inputWidgets": {},
     "nuid": "bc52db39-27ee-44bf-aa9a-5f125373c83c",
     "showTitle": false,
     "tableResultSettingsMap": {},
     "title": ""
    }
   },
   "outputs": [],
   "source": [
    "df_ci = df_filtered_2.withColumn(\n",
    "    \"Confidence_Width\",\n",
    "    col(\"High_Confidence_Limit\") - col(\"Low_Confidence_Limit\")\n",
    ")\n",
    "\n",
    "df_ci.orderBy(desc(\"Confidence_Width\")).display()\n"
   ]
  },
  {
   "cell_type": "code",
   "execution_count": 0,
   "metadata": {
    "application/vnd.databricks.v1+cell": {
     "cellMetadata": {
      "byteLimit": 2048000,
      "rowLimit": 10000
     },
     "inputWidgets": {},
     "nuid": "8be45bfc-6171-4431-b303-68c7f119d52b",
     "showTitle": false,
     "tableResultSettingsMap": {},
     "title": ""
    }
   },
   "outputs": [],
   "source": [
    "from pyspark.sql.functions import when\n",
    "\n",
    "df_ci_flagged = df_ci.withColumn(\n",
    "    \"High_Uncertainty\",\n",
    "    when(col(\"Confidence_Width\") > 30, True).otherwise(False)\n",
    ")\n"
   ]
  },
  {
   "cell_type": "code",
   "execution_count": 0,
   "metadata": {
    "application/vnd.databricks.v1+cell": {
     "cellMetadata": {
      "byteLimit": 2048000,
      "rowLimit": 10000
     },
     "inputWidgets": {},
     "nuid": "bc4f951c-51af-4d8a-8bde-f872eaf628b0",
     "showTitle": false,
     "tableResultSettingsMap": {},
     "title": ""
    }
   },
   "outputs": [],
   "source": [
    "df_clean = df_ci.filter(col(\"Confidence_Width\") <= 30)"
   ]
  },
  {
   "cell_type": "code",
   "execution_count": 0,
   "metadata": {
    "application/vnd.databricks.v1+cell": {
     "cellMetadata": {
      "byteLimit": 2048000,
      "rowLimit": 10000
     },
     "inputWidgets": {},
     "nuid": "3288d50a-a21f-43dd-b199-d005ecdc7257",
     "showTitle": false,
     "tableResultSettingsMap": {
      "0": {
       "dataGridStateBlob": "{\"version\":1,\"tableState\":{\"columnPinning\":{\"left\":[\"#row_number#\"],\"right\":[]},\"columnSizing\":{},\"columnVisibility\":{}},\"settings\":{\"columns\":{}},\"syncTimestamp\":1752914077323}",
       "filterBlob": null,
       "queryPlanFiltersBlob": null,
       "tableResultIndex": 0
      }
     },
     "title": ""
    }
   },
   "outputs": [],
   "source": [
    "df_ci.groupBy(\"Stratification1\").avg(\"Confidence_Width\").orderBy(desc(\"avg(Confidence_Width)\")).display()\n"
   ]
  },
  {
   "cell_type": "code",
   "execution_count": 0,
   "metadata": {
    "application/vnd.databricks.v1+cell": {
     "cellMetadata": {
      "byteLimit": 2048000,
      "rowLimit": 10000
     },
     "inputWidgets": {},
     "nuid": "2ea43cef-29fa-40c2-8d0a-3efdf4d092d6",
     "showTitle": false,
     "tableResultSettingsMap": {},
     "title": ""
    }
   },
   "outputs": [],
   "source": [
    "import pandas as pd\n",
    "import seaborn as sns\n",
    "import matplotlib.pyplot as plt\n",
    "\n",
    "pdf = df_ci.select(\"Stratification1\", \"Confidence_Width\").toPandas()\n",
    "plt.figure(figsize=(12,6))\n",
    "sns.boxplot(x=\"Stratification1\", y=\"Confidence_Width\", data=pdf)\n",
    "plt.xticks(rotation=45)\n",
    "plt.title(\"Confidence Width by Disability Type\")\n",
    "plt.show()\n"
   ]
  },
  {
   "cell_type": "code",
   "execution_count": 0,
   "metadata": {
    "application/vnd.databricks.v1+cell": {
     "cellMetadata": {
      "byteLimit": 2048000,
      "rowLimit": 10000
     },
     "inputWidgets": {},
     "nuid": "28beebea-94f3-44c5-a68c-44f91a528def",
     "showTitle": false,
     "tableResultSettingsMap": {},
     "title": ""
    }
   },
   "outputs": [],
   "source": [
    "# Convert full DataFrame to pandas (or sample if too large)\n",
    "df_ci_pd = df_ci.select(\"Confidence_Width\").dropna().toPandas()\n",
    "\n",
    "plt.figure(figsize=(10,6))\n",
    "plt.hist(df_ci_pd[\"Confidence_Width\"], bins=30, color=\"skyblue\", edgecolor=\"black\")\n",
    "plt.title(\"Distribution of Confidence Interval Widths\")\n",
    "plt.xlabel(\"Confidence Width\")\n",
    "plt.ylabel(\"Frequency\")\n",
    "plt.tight_layout()\n",
    "plt.show()\n"
   ]
  },
  {
   "cell_type": "code",
   "execution_count": 0,
   "metadata": {
    "application/vnd.databricks.v1+cell": {
     "cellMetadata": {
      "byteLimit": 2048000,
      "rowLimit": 10000
     },
     "inputWidgets": {},
     "nuid": "f39c32cb-be00-4023-9a74-d33e32c728e5",
     "showTitle": false,
     "tableResultSettingsMap": {},
     "title": ""
    }
   },
   "outputs": [],
   "source": [
    "from pyspark.sql.functions import avg\n",
    "import matplotlib.pyplot as plt\n",
    "\n",
    "df_grouped = df_filtered_2.filter(df_filtered_2[\"Stratification1\"] == \"Hearing Disability\") \\\n",
    "    .groupBy(\"Year\") \\\n",
    "    .agg(avg(\"Data_Value\").alias(\"Average_Disability\"))\n",
    "\n",
    "df_grouped_pd = df_grouped.orderBy(\"Year\").toPandas()\n",
    "df_grouped_pd.plot(x=\"Year\", y=\"Average_Disability\", kind=\"line\", marker='o', figsize=(10, 5), color=\"orange\")\n",
    "plt.title(\"Trend of Hearing Disability Over Years\")\n",
    "plt.xlabel(\"Year\")\n",
    "plt.ylabel(\"Average Disability Value\")\n",
    "plt.grid(True)\n",
    "plt.tight_layout()\n",
    "plt.show()\n"
   ]
  },
  {
   "cell_type": "code",
   "execution_count": 0,
   "metadata": {
    "application/vnd.databricks.v1+cell": {
     "cellMetadata": {
      "byteLimit": 2048000,
      "rowLimit": 10000
     },
     "inputWidgets": {},
     "nuid": "661b4fa9-8690-4cd4-b639-2295f63fab70",
     "showTitle": false,
     "tableResultSettingsMap": {},
     "title": ""
    }
   },
   "outputs": [],
   "source": []
  }
 ],
 "metadata": {
  "application/vnd.databricks.v1+notebook": {
   "computePreferences": null,
   "dashboards": [
    {
     "elements": [
      {
       "dashboardResultIndex": null,
       "elementNUID": "f39c32cb-be00-4023-9a74-d33e32c728e5",
       "elementType": "command",
       "guid": "3a86fe82-7eeb-4019-9277-8a4b58a6305a",
       "options": null,
       "position": {
        "height": 6,
        "width": 12,
        "x": 0,
        "y": 0,
        "z": null
       },
       "resultIndex": null
      },
      {
       "dashboardResultIndex": null,
       "elementNUID": "2ea43cef-29fa-40c2-8d0a-3efdf4d092d6",
       "elementType": "command",
       "guid": "576e7b74-792a-4b5a-88b4-52d8aec11e87",
       "options": null,
       "position": {
        "height": 9,
        "width": 12,
        "x": 12,
        "y": 0,
        "z": null
       },
       "resultIndex": null
      },
      {
       "dashboardResultIndex": null,
       "elementNUID": "28beebea-94f3-44c5-a68c-44f91a528def",
       "elementType": "command",
       "guid": "6d689064-c78e-49d3-9734-57ce1ce2bcaf",
       "options": null,
       "position": {
        "height": 8,
        "width": 13,
        "x": 11,
        "y": 9,
        "z": null
       },
       "resultIndex": null
      },
      {
       "dashboardResultIndex": 0,
       "elementNUID": "a71da969-fe66-4342-8362-7c9d4cbe8cf7",
       "elementType": "command",
       "guid": "77565361-85d5-4629-af23-a3d9326b461c",
       "options": null,
       "position": {
        "height": 4,
        "width": 11,
        "x": 0,
        "y": 6,
        "z": null
       },
       "resultIndex": null
      },
      {
       "dashboardResultIndex": null,
       "elementNUID": "9a569cc6-b1e9-4b34-8c25-627a272f995c",
       "elementType": "command",
       "guid": "9b4e0ed0-7f27-4a92-9ce3-c480eab67cca",
       "options": {
        "autoScaleImg": false,
        "scale": 0,
        "showTitle": false,
        "titleAlign": "center"
       },
       "position": {
        "height": 28,
        "width": 24,
        "x": 0,
        "y": 28,
        "z": null
       },
       "resultIndex": null
      },
      {
       "dashboardResultIndex": null,
       "elementNUID": "83c12c52-9e2f-44f6-ab84-b604dcd03093",
       "elementType": "command",
       "guid": "a40839f2-254a-4e6a-90dc-2b02ccc90d2d",
       "options": null,
       "position": {
        "height": 11,
        "width": 17,
        "x": 4,
        "y": 17,
        "z": null
       },
       "resultIndex": null
      },
      {
       "dashboardResultIndex": 0,
       "elementNUID": "3288d50a-a21f-43dd-b199-d005ecdc7257",
       "elementType": "command",
       "guid": "b421b363-7744-442a-bdf6-bf14d3895daf",
       "options": null,
       "position": {
        "height": 7,
        "width": 11,
        "x": 0,
        "y": 10,
        "z": null
       },
       "resultIndex": null
      }
     ],
     "globalVars": {},
     "guid": "",
     "layoutOption": {
      "grid": true,
      "stack": false
     },
     "nuid": "c7669c81-3b3c-4924-869b-495e6c115fc0",
     "origId": 8195558708971320,
     "title": "new_db",
     "version": "DashboardViewV1",
     "width": 1024
    },
    {
     "elements": [
      {
       "dashboardResultIndex": 1,
       "elementNUID": "255d3968-8274-4af2-9fd1-867e899c61f1",
       "elementType": "command",
       "guid": "008fb285-eb7c-4db6-8d2c-b1513084c814",
       "options": null,
       "position": {
        "height": 6,
        "width": 12,
        "x": 0,
        "y": 0,
        "z": null
       },
       "resultIndex": null
      },
      {
       "dashboardResultIndex": null,
       "elementNUID": "2ea43cef-29fa-40c2-8d0a-3efdf4d092d6",
       "elementType": "command",
       "guid": "051d12d7-69df-4c42-b3b1-319c0ed1e41d",
       "options": null,
       "position": {
        "height": 6,
        "width": 12,
        "x": 0,
        "y": 6,
        "z": null
       },
       "resultIndex": null
      },
      {
       "dashboardResultIndex": null,
       "elementNUID": "c827dd36-0d7d-498f-8fd8-4401ff3cb944",
       "elementType": "command",
       "guid": "05d12d55-79ac-4b9d-90af-defb40d8dfef",
       "options": null,
       "position": {
        "height": 6,
        "width": 12,
        "x": 0,
        "y": 12,
        "z": null
       },
       "resultIndex": null
      },
      {
       "dashboardResultIndex": 0,
       "elementNUID": "255d3968-8274-4af2-9fd1-867e899c61f1",
       "elementType": "command",
       "guid": "0648f617-f46d-4f93-969d-8f541c28fcb0",
       "options": null,
       "position": {
        "height": 6,
        "width": 12,
        "x": 0,
        "y": 18,
        "z": null
       },
       "resultIndex": null
      },
      {
       "dashboardResultIndex": 0,
       "elementNUID": "3288d50a-a21f-43dd-b199-d005ecdc7257",
       "elementType": "command",
       "guid": "06fccd84-1a10-42d9-93af-4ccd01bd2080",
       "options": null,
       "position": {
        "height": 6,
        "width": 12,
        "x": 0,
        "y": 24,
        "z": null
       },
       "resultIndex": null
      },
      {
       "dashboardResultIndex": 0,
       "elementNUID": "af098d92-586b-436f-b194-bbc713dd5814",
       "elementType": "command",
       "guid": "095eef41-381a-4d91-93c4-32bcea4121a8",
       "options": null,
       "position": {
        "height": 6,
        "width": 12,
        "x": 0,
        "y": 30,
        "z": null
       },
       "resultIndex": null
      },
      {
       "dashboardResultIndex": 0,
       "elementNUID": "287a280c-1f10-45ee-b6d2-8ee1cb5ea1dc",
       "elementType": "command",
       "guid": "0b3a91d3-2aaa-49c6-87e0-4b0a1f514463",
       "options": null,
       "position": {
        "height": 6,
        "width": 12,
        "x": 0,
        "y": 36,
        "z": null
       },
       "resultIndex": null
      },
      {
       "dashboardResultIndex": 8,
       "elementNUID": "af098d92-586b-436f-b194-bbc713dd5814",
       "elementType": "command",
       "guid": "1015b8de-bff3-4cfe-a3d9-c4b2dc74dc35",
       "options": null,
       "position": {
        "height": 6,
        "width": 12,
        "x": 0,
        "y": 42,
        "z": null
       },
       "resultIndex": null
      },
      {
       "dashboardResultIndex": 1,
       "elementNUID": "af098d92-586b-436f-b194-bbc713dd5814",
       "elementType": "command",
       "guid": "14379743-4918-49a4-b82f-cc62e8bf5a97",
       "options": null,
       "position": {
        "height": 6,
        "width": 12,
        "x": 0,
        "y": 48,
        "z": null
       },
       "resultIndex": null
      },
      {
       "dashboardResultIndex": null,
       "elementNUID": "f39c32cb-be00-4023-9a74-d33e32c728e5",
       "elementType": "command",
       "guid": "1e382aea-a586-4a68-ba3d-b038443e6c6d",
       "options": null,
       "position": {
        "height": 6,
        "width": 12,
        "x": 0,
        "y": 54,
        "z": null
       },
       "resultIndex": null
      },
      {
       "dashboardResultIndex": null,
       "elementNUID": "28beebea-94f3-44c5-a68c-44f91a528def",
       "elementType": "command",
       "guid": "23574d6f-3786-46f2-9856-f6ed24b5403d",
       "options": null,
       "position": {
        "height": 6,
        "width": 12,
        "x": 0,
        "y": 60,
        "z": null
       },
       "resultIndex": null
      },
      {
       "dashboardResultIndex": 0,
       "elementNUID": "95b5e12b-ece1-4c36-89a2-1ebbd8d8b2a4",
       "elementType": "command",
       "guid": "24ef544b-58df-4dcd-9561-47123b3d0aa4",
       "options": null,
       "position": {
        "height": 6,
        "width": 12,
        "x": 0,
        "y": 66,
        "z": null
       },
       "resultIndex": null
      },
      {
       "dashboardResultIndex": 0,
       "elementNUID": "619f9eb0-b131-4d67-a52f-6257788c7f6e",
       "elementType": "command",
       "guid": "2870ef32-b5ba-4388-b3fa-971eb90d31aa",
       "options": null,
       "position": {
        "height": 6,
        "width": 12,
        "x": 0,
        "y": 72,
        "z": null
       },
       "resultIndex": null
      },
      {
       "dashboardResultIndex": 0,
       "elementNUID": "dd1b0f83-186d-4cdf-a07e-b500ef76c27f",
       "elementType": "command",
       "guid": "2b500c17-92a6-4bf8-8a0e-a1b338c48617",
       "options": null,
       "position": {
        "height": 6,
        "width": 12,
        "x": 0,
        "y": 78,
        "z": null
       },
       "resultIndex": null
      },
      {
       "dashboardResultIndex": 6,
       "elementNUID": "255d3968-8274-4af2-9fd1-867e899c61f1",
       "elementType": "command",
       "guid": "3380a93c-26e9-4868-9f65-e88c21bf5de0",
       "options": null,
       "position": {
        "height": 6,
        "width": 12,
        "x": 0,
        "y": 84,
        "z": null
       },
       "resultIndex": null
      },
      {
       "dashboardResultIndex": 0,
       "elementNUID": "1cc30b02-f2ca-4071-b4ce-4a9314331f71",
       "elementType": "command",
       "guid": "3fef5a57-0966-467d-97c3-a831b097187d",
       "options": null,
       "position": {
        "height": 6,
        "width": 12,
        "x": 0,
        "y": 90,
        "z": null
       },
       "resultIndex": null
      },
      {
       "dashboardResultIndex": 5,
       "elementNUID": "af098d92-586b-436f-b194-bbc713dd5814",
       "elementType": "command",
       "guid": "4089c726-ecda-4ec2-af79-a4b749f7207e",
       "options": null,
       "position": {
        "height": 6,
        "width": 12,
        "x": 0,
        "y": 96,
        "z": null
       },
       "resultIndex": null
      },
      {
       "dashboardResultIndex": 0,
       "elementNUID": "bc52db39-27ee-44bf-aa9a-5f125373c83c",
       "elementType": "command",
       "guid": "41795553-c77d-44d5-b085-b690d522b5a7",
       "options": null,
       "position": {
        "height": 6,
        "width": 12,
        "x": 0,
        "y": 102,
        "z": null
       },
       "resultIndex": null
      },
      {
       "dashboardResultIndex": 5,
       "elementNUID": "255d3968-8274-4af2-9fd1-867e899c61f1",
       "elementType": "command",
       "guid": "4cb8e486-774f-4f3b-8be5-aabf97dbc1c9",
       "options": null,
       "position": {
        "height": 6,
        "width": 12,
        "x": 0,
        "y": 108,
        "z": null
       },
       "resultIndex": null
      },
      {
       "dashboardResultIndex": 0,
       "elementNUID": "fabb84f9-ba72-4b70-923a-6b64f31d72a5",
       "elementType": "command",
       "guid": "6305f33a-3454-4b22-907b-2b6edf91c94d",
       "options": null,
       "position": {
        "height": 6,
        "width": 12,
        "x": 0,
        "y": 114,
        "z": null
       },
       "resultIndex": null
      },
      {
       "dashboardResultIndex": 2,
       "elementNUID": "af098d92-586b-436f-b194-bbc713dd5814",
       "elementType": "command",
       "guid": "64619d27-a164-4b86-a1d7-bbdebee4dee9",
       "options": null,
       "position": {
        "height": 6,
        "width": 12,
        "x": 0,
        "y": 120,
        "z": null
       },
       "resultIndex": null
      },
      {
       "dashboardResultIndex": null,
       "elementNUID": "83c12c52-9e2f-44f6-ab84-b604dcd03093",
       "elementType": "command",
       "guid": "67d3c9d9-f34c-4413-b94c-afbb6e2b1b26",
       "options": null,
       "position": {
        "height": 6,
        "width": 12,
        "x": 0,
        "y": 126,
        "z": null
       },
       "resultIndex": null
      },
      {
       "dashboardResultIndex": 2,
       "elementNUID": "255d3968-8274-4af2-9fd1-867e899c61f1",
       "elementType": "command",
       "guid": "69f9ac26-4a25-4878-bf7c-d182da8823c3",
       "options": null,
       "position": {
        "height": 6,
        "width": 12,
        "x": 0,
        "y": 132,
        "z": null
       },
       "resultIndex": null
      },
      {
       "dashboardResultIndex": 3,
       "elementNUID": "255d3968-8274-4af2-9fd1-867e899c61f1",
       "elementType": "command",
       "guid": "7003184f-67e1-4a37-80bf-a105ec306616",
       "options": null,
       "position": {
        "height": 6,
        "width": 12,
        "x": 0,
        "y": 138,
        "z": null
       },
       "resultIndex": null
      },
      {
       "dashboardResultIndex": 0,
       "elementNUID": "7d200a89-7921-4b85-a0c4-8bdfebef7c73",
       "elementType": "command",
       "guid": "7034be96-9211-451b-b41f-c5f670d02f3c",
       "options": null,
       "position": {
        "height": 6,
        "width": 12,
        "x": 0,
        "y": 144,
        "z": null
       },
       "resultIndex": null
      },
      {
       "dashboardResultIndex": 0,
       "elementNUID": "0f4522d8-3969-49f4-a211-f663c7baeb87",
       "elementType": "command",
       "guid": "7243b908-35ae-49c7-a480-de73babf8536",
       "options": null,
       "position": {
        "height": 6,
        "width": 12,
        "x": 0,
        "y": 150,
        "z": null
       },
       "resultIndex": null
      },
      {
       "dashboardResultIndex": null,
       "elementNUID": "b08b5928-6a77-406d-b6da-b44f02ed110d",
       "elementType": "command",
       "guid": "77089c88-5177-4c48-a8a3-d25c4e2d52b3",
       "options": null,
       "position": {
        "height": 6,
        "width": 12,
        "x": 0,
        "y": 156,
        "z": null
       },
       "resultIndex": null
      },
      {
       "dashboardResultIndex": 0,
       "elementNUID": "9889ab3b-7ff2-4ce2-980a-8fccf90b233a",
       "elementType": "command",
       "guid": "7924f613-12b7-47f6-8354-3b87ae85490b",
       "options": null,
       "position": {
        "height": 6,
        "width": 12,
        "x": 0,
        "y": 162,
        "z": null
       },
       "resultIndex": null
      },
      {
       "dashboardResultIndex": 0,
       "elementNUID": "18ab718c-2505-46cf-b216-b801a76d4788",
       "elementType": "command",
       "guid": "8256a2b7-3f07-4e17-a794-e5bbac9c5b8a",
       "options": null,
       "position": {
        "height": 6,
        "width": 12,
        "x": 0,
        "y": 168,
        "z": null
       },
       "resultIndex": null
      },
      {
       "dashboardResultIndex": 0,
       "elementNUID": "a71da969-fe66-4342-8362-7c9d4cbe8cf7",
       "elementType": "command",
       "guid": "83bf04bf-1e2d-4567-b297-7815f7893a09",
       "options": null,
       "position": {
        "height": 6,
        "width": 12,
        "x": 0,
        "y": 174,
        "z": null
       },
       "resultIndex": null
      },
      {
       "dashboardResultIndex": 6,
       "elementNUID": "af098d92-586b-436f-b194-bbc713dd5814",
       "elementType": "command",
       "guid": "84bac006-4b57-4ffe-b30f-712d4dee3f73",
       "options": null,
       "position": {
        "height": 6,
        "width": 12,
        "x": 0,
        "y": 180,
        "z": null
       },
       "resultIndex": null
      },
      {
       "dashboardResultIndex": 0,
       "elementNUID": "c4e579f4-087f-4d50-88b2-a5ba886510ea",
       "elementType": "command",
       "guid": "8c403d15-f746-4dd3-9ac7-e7daa63515a0",
       "options": null,
       "position": {
        "height": 6,
        "width": 12,
        "x": 0,
        "y": 186,
        "z": null
       },
       "resultIndex": null
      },
      {
       "dashboardResultIndex": 3,
       "elementNUID": "af098d92-586b-436f-b194-bbc713dd5814",
       "elementType": "command",
       "guid": "8c95ea32-241b-459a-bb6c-0ac5a58c55ff",
       "options": null,
       "position": {
        "height": 6,
        "width": 12,
        "x": 0,
        "y": 192,
        "z": null
       },
       "resultIndex": null
      },
      {
       "dashboardResultIndex": 0,
       "elementNUID": "05081d6e-627e-4507-8dd7-3fb3615e6ff4",
       "elementType": "command",
       "guid": "8d376575-581e-4eb5-811b-d594d2b681ce",
       "options": null,
       "position": {
        "height": 6,
        "width": 12,
        "x": 0,
        "y": 198,
        "z": null
       },
       "resultIndex": null
      },
      {
       "dashboardResultIndex": 0,
       "elementNUID": "dca16b0f-e521-4840-8280-daf16fa96def",
       "elementType": "command",
       "guid": "989bd78c-df3f-427d-ad04-474167526d10",
       "options": null,
       "position": {
        "height": 6,
        "width": 12,
        "x": 0,
        "y": 204,
        "z": null
       },
       "resultIndex": null
      },
      {
       "dashboardResultIndex": 0,
       "elementNUID": "c9eabf2b-3e88-4315-8a5b-8dcd3635875f",
       "elementType": "command",
       "guid": "a4e90715-c5fe-4306-82ba-a8d5de82762c",
       "options": null,
       "position": {
        "height": 6,
        "width": 12,
        "x": 0,
        "y": 210,
        "z": null
       },
       "resultIndex": null
      },
      {
       "dashboardResultIndex": 7,
       "elementNUID": "af098d92-586b-436f-b194-bbc713dd5814",
       "elementType": "command",
       "guid": "ac072e39-23ea-411a-883c-9a80aae9ef49",
       "options": null,
       "position": {
        "height": 6,
        "width": 12,
        "x": 0,
        "y": 216,
        "z": null
       },
       "resultIndex": null
      },
      {
       "dashboardResultIndex": 0,
       "elementNUID": "d82a52ef-b809-4c0f-b172-9c506529c681",
       "elementType": "command",
       "guid": "b1464672-aab7-4ffc-a771-dbe692756eb1",
       "options": null,
       "position": {
        "height": 6,
        "width": 12,
        "x": 0,
        "y": 222,
        "z": null
       },
       "resultIndex": null
      },
      {
       "dashboardResultIndex": 0,
       "elementNUID": "083c4938-1320-4068-add2-631d575d8517",
       "elementType": "command",
       "guid": "b1a0de0d-b0ba-4616-98dc-75bbd80897c9",
       "options": null,
       "position": {
        "height": 6,
        "width": 12,
        "x": 0,
        "y": 228,
        "z": null
       },
       "resultIndex": null
      },
      {
       "dashboardResultIndex": 0,
       "elementNUID": "1a921add-7bf5-45f1-af20-39855ade7dc7",
       "elementType": "command",
       "guid": "c4099ca5-e6c5-447d-af10-34830c7cfd6c",
       "options": null,
       "position": {
        "height": 6,
        "width": 12,
        "x": 0,
        "y": 234,
        "z": null
       },
       "resultIndex": null
      },
      {
       "dashboardResultIndex": 0,
       "elementNUID": "11f276df-dbf1-42d0-8a61-d4a55d665863",
       "elementType": "command",
       "guid": "c4fc2d0a-9602-42ef-b3b9-a495e78f7d4f",
       "options": null,
       "position": {
        "height": 6,
        "width": 12,
        "x": 0,
        "y": 240,
        "z": null
       },
       "resultIndex": null
      },
      {
       "dashboardResultIndex": 0,
       "elementNUID": "fd692768-7a0d-4c9f-b618-d2e378964b37",
       "elementType": "command",
       "guid": "cb9730e7-132c-4102-b864-d751925fa1b3",
       "options": null,
       "position": {
        "height": 6,
        "width": 12,
        "x": 0,
        "y": 246,
        "z": null
       },
       "resultIndex": null
      },
      {
       "dashboardResultIndex": 0,
       "elementNUID": "03ec286e-29dd-43d4-bf26-2b6f0248f2a8",
       "elementType": "command",
       "guid": "cd618d80-c8ba-480e-834a-742d7f6da480",
       "options": null,
       "position": {
        "height": 6,
        "width": 12,
        "x": 0,
        "y": 252,
        "z": null
       },
       "resultIndex": null
      },
      {
       "dashboardResultIndex": 0,
       "elementNUID": "bb179209-297a-41ce-8433-899811c95973",
       "elementType": "command",
       "guid": "cefc2c32-f0c4-4dcc-b838-71b43f0b38f9",
       "options": null,
       "position": {
        "height": 6,
        "width": 12,
        "x": 0,
        "y": 258,
        "z": null
       },
       "resultIndex": null
      },
      {
       "dashboardResultIndex": 0,
       "elementNUID": "507fe413-5564-4574-88ed-af482f76378e",
       "elementType": "command",
       "guid": "d64f8d1c-c9c1-426d-a938-cdd2e88eae03",
       "options": null,
       "position": {
        "height": 6,
        "width": 12,
        "x": 0,
        "y": 264,
        "z": null
       },
       "resultIndex": null
      },
      {
       "dashboardResultIndex": 7,
       "elementNUID": "255d3968-8274-4af2-9fd1-867e899c61f1",
       "elementType": "command",
       "guid": "dc73b6dd-5696-4ab3-beff-4053eb0a8f84",
       "options": null,
       "position": {
        "height": 6,
        "width": 12,
        "x": 0,
        "y": 270,
        "z": null
       },
       "resultIndex": null
      },
      {
       "dashboardResultIndex": 0,
       "elementNUID": "4497d87e-c275-413b-9a0e-8735ad6e703c",
       "elementType": "command",
       "guid": "de07679a-af1f-4e41-beeb-50cce1842c88",
       "options": null,
       "position": {
        "height": 6,
        "width": 12,
        "x": 0,
        "y": 276,
        "z": null
       },
       "resultIndex": null
      },
      {
       "dashboardResultIndex": 4,
       "elementNUID": "af098d92-586b-436f-b194-bbc713dd5814",
       "elementType": "command",
       "guid": "df23375e-c74b-4e42-a0f9-bb363fc4ebfa",
       "options": null,
       "position": {
        "height": 6,
        "width": 12,
        "x": 0,
        "y": 282,
        "z": null
       },
       "resultIndex": null
      },
      {
       "dashboardResultIndex": 0,
       "elementNUID": "5523b995-9723-4a8d-9c47-9705401fa2ed",
       "elementType": "command",
       "guid": "dfe56a17-df30-4047-8765-2a111fae35cb",
       "options": null,
       "position": {
        "height": 6,
        "width": 12,
        "x": 0,
        "y": 288,
        "z": null
       },
       "resultIndex": null
      },
      {
       "dashboardResultIndex": 8,
       "elementNUID": "255d3968-8274-4af2-9fd1-867e899c61f1",
       "elementType": "command",
       "guid": "e1e498b7-1571-4d5c-bf5e-b402832d3344",
       "options": null,
       "position": {
        "height": 6,
        "width": 12,
        "x": 0,
        "y": 294,
        "z": null
       },
       "resultIndex": null
      },
      {
       "dashboardResultIndex": 0,
       "elementNUID": "fcc57eae-eb27-4b74-b947-8e82d6d4cfe4",
       "elementType": "command",
       "guid": "e286322a-6f02-4b63-ba4b-0825ddf86d99",
       "options": null,
       "position": {
        "height": 6,
        "width": 12,
        "x": 0,
        "y": 300,
        "z": null
       },
       "resultIndex": null
      },
      {
       "dashboardResultIndex": 0,
       "elementNUID": "7c3cde0e-5adc-4c43-bba5-9bf758414431",
       "elementType": "command",
       "guid": "eb922379-2fdc-4bb8-b7fb-e1ed4b237f5c",
       "options": null,
       "position": {
        "height": 6,
        "width": 12,
        "x": 0,
        "y": 306,
        "z": null
       },
       "resultIndex": null
      },
      {
       "dashboardResultIndex": null,
       "elementNUID": "9a569cc6-b1e9-4b34-8c25-627a272f995c",
       "elementType": "command",
       "guid": "f6b7044b-ce6a-4a4d-bfbb-7672f504ff40",
       "options": null,
       "position": {
        "height": 6,
        "width": 12,
        "x": 0,
        "y": 312,
        "z": null
       },
       "resultIndex": null
      },
      {
       "dashboardResultIndex": 4,
       "elementNUID": "255d3968-8274-4af2-9fd1-867e899c61f1",
       "elementType": "command",
       "guid": "f8abb1b7-ac8c-4d1b-9fe9-c8bfbf9cc782",
       "options": null,
       "position": {
        "height": 6,
        "width": 12,
        "x": 0,
        "y": 318,
        "z": null
       },
       "resultIndex": null
      }
     ],
     "globalVars": {},
     "guid": "",
     "layoutOption": {
      "grid": true,
      "stack": true
     },
     "nuid": "b4e0834a-c277-4140-99b6-0318284d55e7",
     "origId": 5389264236532394,
     "title": "Untitled",
     "version": "DashboardViewV1",
     "width": 1024
    }
   ],
   "environmentMetadata": {
    "base_environment": "",
    "environment_version": "2"
   },
   "inputWidgetPreferences": null,
   "language": "python",
   "notebookMetadata": {
    "pythonIndentUnit": 4
   },
   "notebookName": "Disability Records Project",
   "widgets": {}
  },
  "language_info": {
   "name": "python"
  }
 },
 "nbformat": 4,
 "nbformat_minor": 0
}
